{
 "cells": [
  {
   "cell_type": "markdown",
   "metadata": {
    "colab_type": "text",
    "id": "view-in-github"
   },
   "source": [
    "<a href=\"https://colab.research.google.com/github/Fr0stb1t3/DataScience-Assignment/blob/main/Assignment_3.ipynb\" target=\"_parent\"><img src=\"https://colab.research.google.com/assets/colab-badge.svg\" alt=\"Open In Colab\"/></a>"
   ]
  },
  {
   "cell_type": "markdown",
   "metadata": {
    "id": "3vxuEsvLx4cY"
   },
   "source": [
    "#Part A\n",
    "#Heirarical Clustering"
   ]
  },
  {
   "cell_type": "code",
   "execution_count": 1,
   "metadata": {
    "id": "eVVjcOFUu8U2"
   },
   "outputs": [],
   "source": [
    "import numpy as np\n",
    "import matplotlib.pyplot as plt\n",
    "import pandas as pd"
   ]
  },
  {
   "cell_type": "code",
   "execution_count": 2,
   "metadata": {
    "id": "rab4fwjM2PC-"
   },
   "outputs": [],
   "source": [
    "dataset = pd.read_csv('Mall_Customers.csv')"
   ]
  },
  {
   "cell_type": "code",
   "execution_count": 3,
   "metadata": {
    "colab": {
     "base_uri": "https://localhost:8080/",
     "height": 206
    },
    "id": "ePqIlOTb3BTx",
    "outputId": "66739524-5b08-4a3a-b7e8-ee7689a55d7d"
   },
   "outputs": [
    {
     "data": {
      "text/html": [
       "<div>\n",
       "<style scoped>\n",
       "    .dataframe tbody tr th:only-of-type {\n",
       "        vertical-align: middle;\n",
       "    }\n",
       "\n",
       "    .dataframe tbody tr th {\n",
       "        vertical-align: top;\n",
       "    }\n",
       "\n",
       "    .dataframe thead th {\n",
       "        text-align: right;\n",
       "    }\n",
       "</style>\n",
       "<table border=\"1\" class=\"dataframe\">\n",
       "  <thead>\n",
       "    <tr style=\"text-align: right;\">\n",
       "      <th></th>\n",
       "      <th>CustomerID</th>\n",
       "      <th>Genre</th>\n",
       "      <th>Age</th>\n",
       "      <th>Annual Income (k$)</th>\n",
       "      <th>Spending Score (1-100)</th>\n",
       "    </tr>\n",
       "  </thead>\n",
       "  <tbody>\n",
       "    <tr>\n",
       "      <th>0</th>\n",
       "      <td>1</td>\n",
       "      <td>Male</td>\n",
       "      <td>19</td>\n",
       "      <td>15</td>\n",
       "      <td>39</td>\n",
       "    </tr>\n",
       "    <tr>\n",
       "      <th>1</th>\n",
       "      <td>2</td>\n",
       "      <td>Male</td>\n",
       "      <td>21</td>\n",
       "      <td>15</td>\n",
       "      <td>81</td>\n",
       "    </tr>\n",
       "    <tr>\n",
       "      <th>2</th>\n",
       "      <td>3</td>\n",
       "      <td>Female</td>\n",
       "      <td>20</td>\n",
       "      <td>16</td>\n",
       "      <td>6</td>\n",
       "    </tr>\n",
       "    <tr>\n",
       "      <th>3</th>\n",
       "      <td>4</td>\n",
       "      <td>Female</td>\n",
       "      <td>23</td>\n",
       "      <td>16</td>\n",
       "      <td>77</td>\n",
       "    </tr>\n",
       "    <tr>\n",
       "      <th>4</th>\n",
       "      <td>5</td>\n",
       "      <td>Female</td>\n",
       "      <td>31</td>\n",
       "      <td>17</td>\n",
       "      <td>40</td>\n",
       "    </tr>\n",
       "  </tbody>\n",
       "</table>\n",
       "</div>"
      ],
      "text/plain": [
       "   CustomerID   Genre  Age  Annual Income (k$)  Spending Score (1-100)\n",
       "0           1    Male   19                  15                      39\n",
       "1           2    Male   21                  15                      81\n",
       "2           3  Female   20                  16                       6\n",
       "3           4  Female   23                  16                      77\n",
       "4           5  Female   31                  17                      40"
      ]
     },
     "execution_count": 3,
     "metadata": {},
     "output_type": "execute_result"
    }
   ],
   "source": [
    "dataset.head()"
   ]
  },
  {
   "cell_type": "code",
   "execution_count": 4,
   "metadata": {
    "id": "Ak3h4a5_2ZVI"
   },
   "outputs": [],
   "source": [
    "X = dataset.iloc[:,[3,4]].values"
   ]
  },
  {
   "cell_type": "code",
   "execution_count": 5,
   "metadata": {
    "id": "DZyJvKi52eRy"
   },
   "outputs": [],
   "source": [
    "import scipy.cluster.hierarchy as sch"
   ]
  },
  {
   "cell_type": "code",
   "execution_count": 6,
   "metadata": {
    "colab": {
     "base_uri": "https://localhost:8080/",
     "height": 295
    },
    "id": "z7Ex4kYZ2nGF",
    "outputId": "0aebc7a4-47bc-41c4-c764-0e5cb7b40686"
   },
   "outputs": [
    {
     "data": {
      "image/png": "[encoded data removed]",
      "text/plain": [
       "<Figure size 432x288 with 1 Axes>"
      ]
     },
     "metadata": {
      "needs_background": "light"
     },
     "output_type": "display_data"
    }
   ],
   "source": [
    "dendrogram = sch.dendrogram(sch.linkage(X,method = \"ward\"))\n",
    "plt.title('Dendrogram')\n",
    "plt.xlabel('Customers')\n",
    "plt.ylabel('Euclidean distances')\n",
    "plt.show()"
   ]
  },
  {
   "cell_type": "markdown",
   "metadata": {
    "id": "MkNiM6DC3TtP"
   },
   "source": [
    "# Fitting hierarchical clustering to the Mall_Customes dataset\n",
    "# There are two algorithms for hierarchical clustering: Agglomerative Hierarchical Clustering and \n",
    "# Divisive Hierarchical Clustering. We choose Euclidean distance and ward method for our \n",
    "# algorithm class"
   ]
  },
  {
   "cell_type": "code",
   "execution_count": 7,
   "metadata": {
    "id": "zpVSspkX27HF"
   },
   "outputs": [],
   "source": [
    "from sklearn.cluster import AgglomerativeClustering\n",
    "hc = AgglomerativeClustering(n_clusters=5, affinity = 'euclidean', linkage ='ward')\n"
   ]
  },
  {
   "cell_type": "code",
   "execution_count": 8,
   "metadata": {
    "id": "kX4C-Nnl3rXe"
   },
   "outputs": [],
   "source": [
    "y_hc = hc.fit_predict(X)"
   ]
  },
  {
   "cell_type": "code",
   "execution_count": 9,
   "metadata": {
    "colab": {
     "base_uri": "https://localhost:8080/",
     "height": 295
    },
    "id": "2WUn_-ki3wiX",
    "outputId": "24f498de-9b65-4981-f2a2-951f195fa623"
   },
   "outputs": [
    {
     "data": {
      "image/png": "[encoded data removed]",
      "text/plain": [
       "<Figure size 432x288 with 1 Axes>"
      ]
     },
     "metadata": {
      "needs_background": "light"
     },
     "output_type": "display_data"
    }
   ],
   "source": [
    "plt.scatter(X[y_hc==0,0],X[y_hc==0,1],s=100,c='green', label='Cluster 1')\n",
    "plt.scatter(X[y_hc==1,0],X[y_hc==1,1],s=100,c='red', label='Cluster 2')\n",
    "plt.scatter(X[y_hc==2,0],X[y_hc==2,1],s=100,c='blue', label='Cluster 3')\n",
    "plt.scatter(X[y_hc==3,0],X[y_hc==3,1],s=100,c='purple', label='Cluster 4')\n",
    "plt.scatter(X[y_hc==4,0],X[y_hc==4,1],s=100,c='orange', label='Cluster 5')\n",
    "plt.title('Clusters of Customer (Hierarchical Clustering Model')\n",
    "plt.xlabel('Annual Income(k$)')\n",
    "plt.ylabel('Spending Score(1-100)')\n",
    "plt.show()"
   ]
  },
  {
   "cell_type": "markdown",
   "metadata": {
    "id": "V05otBQh4zc0"
   },
   "source": [
    "From this cluster we can infer that:\n",
    "<br> Green: High Income vs Low Spending => careful\n",
    "<br> Red: Normal Income vs Normal Spending => Standard\n",
    "<br> Blue: High Income vs High Spending => Target\n",
    "<br> Purple: Low Income vs High Spending => careless\n",
    "<br> Orange: Low Income vs Low Spending => Sensible"
   ]
  },
  {
   "cell_type": "code",
   "execution_count": null,
   "metadata": {
    "id": "Osqnb-Sy4rIO"
   },
   "outputs": [],
   "source": []
  },
  {
   "cell_type": "markdown",
   "metadata": {
    "id": "9ktKwg1N5uxL"
   },
   "source": [
    "#Text analysis using topic modelling"
   ]
  },
  {
   "cell_type": "code",
   "execution_count": 12,
   "metadata": {
    "id": "4Nol4eu65_w0"
   },
   "outputs": [],
   "source": [
    "import pandas as pd\n",
    "import os"
   ]
  },
  {
   "cell_type": "code",
   "execution_count": 13,
   "metadata": {
    "id": "Hgs9UEFV7Dd2"
   },
   "outputs": [],
   "source": [
    "papers  = pd.read_csv('papers.csv')\n",
    "#Uncomment the following lines if you are going to upload the file to Colab \n",
    "#from google.colab import files\n",
    "#f = files.upload()\n",
    "#papers  = pd.read_csv('papers.csv')"
   ]
  },
  {
   "cell_type": "code",
   "execution_count": 14,
   "metadata": {
    "colab": {
     "base_uri": "https://localhost:8080/",
     "height": 337
    },
    "id": "EJVQw4Y67GwR",
    "outputId": "4430a7b1-9083-411d-9a60-aaf784b6f6e2"
   },
   "outputs": [
    {
     "data": {
      "text/html": [
       "<div>\n",
       "<style scoped>\n",
       "    .dataframe tbody tr th:only-of-type {\n",
       "        vertical-align: middle;\n",
       "    }\n",
       "\n",
       "    .dataframe tbody tr th {\n",
       "        vertical-align: top;\n",
       "    }\n",
       "\n",
       "    .dataframe thead th {\n",
       "        text-align: right;\n",
       "    }\n",
       "</style>\n",
       "<table border=\"1\" class=\"dataframe\">\n",
       "  <thead>\n",
       "    <tr style=\"text-align: right;\">\n",
       "      <th></th>\n",
       "      <th>id</th>\n",
       "      <th>year</th>\n",
       "      <th>title</th>\n",
       "      <th>event_type</th>\n",
       "      <th>pdf_name</th>\n",
       "      <th>abstract</th>\n",
       "      <th>paper_text</th>\n",
       "    </tr>\n",
       "  </thead>\n",
       "  <tbody>\n",
       "    <tr>\n",
       "      <th>0</th>\n",
       "      <td>1</td>\n",
       "      <td>1987</td>\n",
       "      <td>Self-Organization of Associative Database and ...</td>\n",
       "      <td>NaN</td>\n",
       "      <td>1-self-organization-of-associative-database-an...</td>\n",
       "      <td>Abstract Missing</td>\n",
       "      <td>767\\n\\nSELF-ORGANIZATION OF ASSOCIATIVE DATABA...</td>\n",
       "    </tr>\n",
       "    <tr>\n",
       "      <th>1</th>\n",
       "      <td>10</td>\n",
       "      <td>1987</td>\n",
       "      <td>A Mean Field Theory of Layer IV of Visual Cort...</td>\n",
       "      <td>NaN</td>\n",
       "      <td>10-a-mean-field-theory-of-layer-iv-of-visual-c...</td>\n",
       "      <td>Abstract Missing</td>\n",
       "      <td>683\\n\\nA MEAN FIELD THEORY OF LAYER IV OF VISU...</td>\n",
       "    </tr>\n",
       "    <tr>\n",
       "      <th>2</th>\n",
       "      <td>100</td>\n",
       "      <td>1988</td>\n",
       "      <td>Storing Covariance by the Associative Long-Ter...</td>\n",
       "      <td>NaN</td>\n",
       "      <td>100-storing-covariance-by-the-associative-long...</td>\n",
       "      <td>Abstract Missing</td>\n",
       "      <td>394\\n\\nSTORING COVARIANCE BY THE ASSOCIATIVE\\n...</td>\n",
       "    </tr>\n",
       "    <tr>\n",
       "      <th>3</th>\n",
       "      <td>1000</td>\n",
       "      <td>1994</td>\n",
       "      <td>Bayesian Query Construction for Neural Network...</td>\n",
       "      <td>NaN</td>\n",
       "      <td>1000-bayesian-query-construction-for-neural-ne...</td>\n",
       "      <td>Abstract Missing</td>\n",
       "      <td>Bayesian Query Construction for Neural\\nNetwor...</td>\n",
       "    </tr>\n",
       "    <tr>\n",
       "      <th>4</th>\n",
       "      <td>1001</td>\n",
       "      <td>1994</td>\n",
       "      <td>Neural Network Ensembles, Cross Validation, an...</td>\n",
       "      <td>NaN</td>\n",
       "      <td>1001-neural-network-ensembles-cross-validation...</td>\n",
       "      <td>Abstract Missing</td>\n",
       "      <td>Neural Network Ensembles, Cross\\nValidation, a...</td>\n",
       "    </tr>\n",
       "  </tbody>\n",
       "</table>\n",
       "</div>"
      ],
      "text/plain": [
       "     id  year                                              title event_type  \\\n",
       "0     1  1987  Self-Organization of Associative Database and ...        NaN   \n",
       "1    10  1987  A Mean Field Theory of Layer IV of Visual Cort...        NaN   \n",
       "2   100  1988  Storing Covariance by the Associative Long-Ter...        NaN   \n",
       "3  1000  1994  Bayesian Query Construction for Neural Network...        NaN   \n",
       "4  1001  1994  Neural Network Ensembles, Cross Validation, an...        NaN   \n",
       "\n",
       "                                            pdf_name          abstract  \\\n",
       "0  1-self-organization-of-associative-database-an...  Abstract Missing   \n",
       "1  10-a-mean-field-theory-of-layer-iv-of-visual-c...  Abstract Missing   \n",
       "2  100-storing-covariance-by-the-associative-long...  Abstract Missing   \n",
       "3  1000-bayesian-query-construction-for-neural-ne...  Abstract Missing   \n",
       "4  1001-neural-network-ensembles-cross-validation...  Abstract Missing   \n",
       "\n",
       "                                          paper_text  \n",
       "0  767\\n\\nSELF-ORGANIZATION OF ASSOCIATIVE DATABA...  \n",
       "1  683\\n\\nA MEAN FIELD THEORY OF LAYER IV OF VISU...  \n",
       "2  394\\n\\nSTORING COVARIANCE BY THE ASSOCIATIVE\\n...  \n",
       "3  Bayesian Query Construction for Neural\\nNetwor...  \n",
       "4  Neural Network Ensembles, Cross\\nValidation, a...  "
      ]
     },
     "execution_count": 14,
     "metadata": {},
     "output_type": "execute_result"
    }
   ],
   "source": [
    "#papers = pd.read_csv('papers.csv')\n",
    "papers.head()"
   ]
  },
  {
   "cell_type": "code",
   "execution_count": 15,
   "metadata": {
    "colab": {
     "base_uri": "https://localhost:8080/",
     "height": 285
    },
    "id": "H8rbx0PP7cYa",
    "outputId": "137316ae-4801-4b95-dc66-0ffb723a0007"
   },
   "outputs": [
    {
     "data": {
      "text/html": [
       "<div>\n",
       "<style scoped>\n",
       "    .dataframe tbody tr th:only-of-type {\n",
       "        vertical-align: middle;\n",
       "    }\n",
       "\n",
       "    .dataframe tbody tr th {\n",
       "        vertical-align: top;\n",
       "    }\n",
       "\n",
       "    .dataframe thead th {\n",
       "        text-align: right;\n",
       "    }\n",
       "</style>\n",
       "<table border=\"1\" class=\"dataframe\">\n",
       "  <thead>\n",
       "    <tr style=\"text-align: right;\">\n",
       "      <th></th>\n",
       "      <th>year</th>\n",
       "      <th>title</th>\n",
       "      <th>abstract</th>\n",
       "      <th>paper_text</th>\n",
       "    </tr>\n",
       "  </thead>\n",
       "  <tbody>\n",
       "    <tr>\n",
       "      <th>1833</th>\n",
       "      <td>2004</td>\n",
       "      <td>Hierarchical Eigensolver for Transition Matric...</td>\n",
       "      <td>Abstract Missing</td>\n",
       "      <td>Hierarchical Eigensolver for Transition Matric...</td>\n",
       "    </tr>\n",
       "    <tr>\n",
       "      <th>163</th>\n",
       "      <td>1995</td>\n",
       "      <td>Strong Unimodality and Exact Learning of Const...</td>\n",
       "      <td>Abstract Missing</td>\n",
       "      <td>-\\n\\n32\\n\\n,\\n\\n\u0002\u0001\u0004\u0003\u0006\u0005\b\u0007\\n\\t \u000b",
       " \u0007\\n\f",
       "\u000f\u000e \u0005\u0011\u0010\u0013\u0012\u0015\u0014\u0016...</td>\n",
       "    </tr>\n",
       "    <tr>\n",
       "      <th>1653</th>\n",
       "      <td>2003</td>\n",
       "      <td>Nonlinear Filtering of Electron Micrographs by...</td>\n",
       "      <td>Abstract Missing</td>\n",
       "      <td>Nonlinear Filtering of Electron\\nMicrographs b...</td>\n",
       "    </tr>\n",
       "    <tr>\n",
       "      <th>448</th>\n",
       "      <td>1997</td>\n",
       "      <td>New Approximations of Differential Entropy for...</td>\n",
       "      <td>Abstract Missing</td>\n",
       "      <td>New Approximations of Differential\\nEntropy fo...</td>\n",
       "    </tr>\n",
       "    <tr>\n",
       "      <th>4166</th>\n",
       "      <td>2012</td>\n",
       "      <td>Identification of Recurrent Patterns in the Ac...</td>\n",
       "      <td>Identifying patterns from the neuroimaging rec...</td>\n",
       "      <td>Identification of Recurrent Patterns in the Ac...</td>\n",
       "    </tr>\n",
       "  </tbody>\n",
       "</table>\n",
       "</div>"
      ],
      "text/plain": [
       "      year                                              title  \\\n",
       "1833  2004  Hierarchical Eigensolver for Transition Matric...   \n",
       "163   1995  Strong Unimodality and Exact Learning of Const...   \n",
       "1653  2003  Nonlinear Filtering of Electron Micrographs by...   \n",
       "448   1997  New Approximations of Differential Entropy for...   \n",
       "4166  2012  Identification of Recurrent Patterns in the Ac...   \n",
       "\n",
       "                                               abstract  \\\n",
       "1833                                   Abstract Missing   \n",
       "163                                    Abstract Missing   \n",
       "1653                                   Abstract Missing   \n",
       "448                                    Abstract Missing   \n",
       "4166  Identifying patterns from the neuroimaging rec...   \n",
       "\n",
       "                                             paper_text  \n",
       "1833  Hierarchical Eigensolver for Transition Matric...  \n",
       "163   -\\n\\n32\\n\\n,\\n\\n\u0002\u0001\u0004\u0003\u0006\u0005\b\u0007\\n\\t \n",
       " \u0007\\n\n",
       "\u000f\u000e \u0005\u0011\u0010\u0013\u0012\u0015\u0014\u0016...  \n",
       "1653  Nonlinear Filtering of Electron\\nMicrographs b...  \n",
       "448   New Approximations of Differential\\nEntropy fo...  \n",
       "4166  Identification of Recurrent Patterns in the Ac...  "
      ]
     },
     "execution_count": 15,
     "metadata": {},
     "output_type": "execute_result"
    }
   ],
   "source": [
    "#Cleaning\n",
    "papers = papers.drop(columns=['id', 'event_type', 'pdf_name'], axis=1).sample(100)\n",
    "\n",
    "# Print out the first rows of papers\n",
    "papers.head()"
   ]
  },
  {
   "cell_type": "code",
   "execution_count": 16,
   "metadata": {
    "id": "ofUTrFul7iP8"
   },
   "outputs": [],
   "source": [
    "import re\n",
    "\n",
    "#remove punctuation\n",
    "papers['paper_text_processed'] = \\\n",
    "papers['paper_text'].map(lambda x: re.sub('[,\\.!?]','',x))\n"
   ]
  },
  {
   "cell_type": "code",
   "execution_count": 17,
   "metadata": {
    "colab": {
     "base_uri": "https://localhost:8080/"
    },
    "id": "5SvNoSTX78mm",
    "outputId": "9922057c-ee80-447a-d677-07995611a5ba"
   },
   "outputs": [
    {
     "data": {
      "text/plain": [
       "1833    hierarchical eigensolver for transition matric...\n",
       "163     -\\n\\n32\\n\\n\\n\\n\u0002\u0001\u0004\u0003\u0006\u0005\b\u0007\\n\\t \n",
       " \u0007\\n\n",
       "\u000f\u000e \u0005\u0011\u0010\u0013\u0012\u0015\u0014\u0016\n",
       "...\n",
       "1653    nonlinear filtering of electron\\nmicrographs b...\n",
       "448     new approximations of differential\\nentropy fo...\n",
       "4166    identification of recurrent patterns in the ac...\n",
       "Name: paper_text_processed, dtype: object"
      ]
     },
     "execution_count": 17,
     "metadata": {},
     "output_type": "execute_result"
    }
   ],
   "source": [
    "#convert to lower case and print first rows\n",
    "papers['paper_text_processed'] = \\\n",
    "papers['paper_text_processed'].map(lambda x: x.lower())\n",
    "papers['paper_text_processed'].head()"
   ]
  },
  {
   "cell_type": "code",
   "execution_count": 18,
   "metadata": {
    "colab": {
     "base_uri": "https://localhost:8080/",
     "height": 217
    },
    "id": "1NRbrsHn8GRi",
    "outputId": "e0e301e4-2c88-42e1-9dab-adca47ce1f8a"
   },
   "outputs": [
    {
     "ename": "ModuleNotFoundError",
     "evalue": "No module named 'wordcloud'",
     "output_type": "error",
     "traceback": [
      "\u001b[1;31m---------------------------------------------------------------------------\u001b[0m",
      "\u001b[1;31mModuleNotFoundError\u001b[0m                       Traceback (most recent call last)",
      "\u001b[1;32m<ipython-input-18-c855cda6809b>\u001b[0m in \u001b[0;36m<module>\u001b[1;34m\u001b[0m\n\u001b[0;32m      1\u001b[0m \u001b[1;31m#Exploratory Analysis:\u001b[0m\u001b[1;33m\u001b[0m\u001b[1;33m\u001b[0m\u001b[1;33m\u001b[0m\u001b[0m\n\u001b[0;32m      2\u001b[0m \u001b[1;31m# To verify the preprocessing we use a word cloud\u001b[0m\u001b[1;33m\u001b[0m\u001b[1;33m\u001b[0m\u001b[1;33m\u001b[0m\u001b[0m\n\u001b[1;32m----> 3\u001b[1;33m \u001b[1;32mfrom\u001b[0m \u001b[0mwordcloud\u001b[0m \u001b[1;32mimport\u001b[0m \u001b[0mWordCloud\u001b[0m\u001b[1;33m\u001b[0m\u001b[1;33m\u001b[0m\u001b[0m\n\u001b[0m\u001b[0;32m      4\u001b[0m \u001b[0mlong_string\u001b[0m \u001b[1;33m=\u001b[0m \u001b[1;34m','\u001b[0m\u001b[1;33m.\u001b[0m\u001b[0mjoin\u001b[0m\u001b[1;33m(\u001b[0m\u001b[0mlist\u001b[0m\u001b[1;33m(\u001b[0m\u001b[0mpapers\u001b[0m\u001b[1;33m[\u001b[0m\u001b[1;34m'paper_text_processed'\u001b[0m\u001b[1;33m]\u001b[0m\u001b[1;33m.\u001b[0m\u001b[0mvalues\u001b[0m\u001b[1;33m)\u001b[0m\u001b[1;33m)\u001b[0m\u001b[1;33m\u001b[0m\u001b[1;33m\u001b[0m\u001b[0m\n\u001b[0;32m      5\u001b[0m \u001b[0mwordcloud\u001b[0m \u001b[1;33m=\u001b[0m \u001b[0mWordCloud\u001b[0m\u001b[1;33m(\u001b[0m\u001b[0mbackground_color\u001b[0m\u001b[1;33m=\u001b[0m\u001b[1;34m\"white\"\u001b[0m\u001b[1;33m,\u001b[0m \u001b[0mmax_words\u001b[0m\u001b[1;33m=\u001b[0m\u001b[1;36m1000\u001b[0m\u001b[1;33m,\u001b[0m \u001b[0mcontour_width\u001b[0m\u001b[1;33m=\u001b[0m\u001b[1;36m3\u001b[0m\u001b[1;33m,\u001b[0m \u001b[0mcontour_color\u001b[0m\u001b[1;33m=\u001b[0m\u001b[1;34m'steelblue'\u001b[0m\u001b[1;33m)\u001b[0m\u001b[1;33m\u001b[0m\u001b[1;33m\u001b[0m\u001b[0m\n",
      "\u001b[1;31mModuleNotFoundError\u001b[0m: No module named 'wordcloud'"
     ]
    }
   ],
   "source": [
    "#Exploratory Analysis:\n",
    "# To verify the preprocessing we use a word cloud \n",
    "from wordcloud import WordCloud\n",
    "long_string = ','.join(list(papers['paper_text_processed'].values))\n",
    "wordcloud = WordCloud(background_color=\"white\", max_words=1000, contour_width=3, contour_color='steelblue')\n",
    "wordcloud.generate(long_string)\n",
    "wordcloud.to_image()"
   ]
  },
  {
   "cell_type": "code",
   "execution_count": 30,
   "metadata": {
    "colab": {
     "base_uri": "https://localhost:8080/"
    },
    "id": "M6SUXbQn8hAJ",
    "outputId": "f476228e-f84f-43cd-bddd-9e24ad0df931"
   },
   "outputs": [
    {
     "name": "stderr",
     "output_type": "stream",
     "text": [
      "[nltk_data] Downloading package stopwords to C:\\Users\\RITIK\n",
      "[nltk_data]     SETH\\AppData\\Roaming\\nltk_data...\n",
      "[nltk_data]   Package stopwords is already up-to-date!\n"
     ]
    }
   ],
   "source": [
    "#Prepare text for LDA\n",
    "import gensim\n",
    "from gensim.utils import simple_preprocess\n",
    "import nltk\n",
    "nltk.download('stopwords')\n",
    "from nltk.corpus import stopwords"
   ]
  },
  {
   "cell_type": "code",
   "execution_count": 31,
   "metadata": {
    "id": "BJxCCNAe88tT"
   },
   "outputs": [],
   "source": [
    "stop_words = stopwords.words('english')\n",
    "stop_words.extend(['from', 'subject', 're', 'edu', 'use'])\n",
    "\n",
    "def sent_to_words(sentences):\n",
    "    for sentence in sentences:\n",
    "        # deacc=True removes punctuations\n",
    "        yield(gensim.utils.simple_preprocess(str(sentence), deacc=True))"
   ]
  },
  {
   "cell_type": "code",
   "execution_count": 32,
   "metadata": {
    "id": "INVJ3SQk8_bN"
   },
   "outputs": [],
   "source": [
    "def remove_stopwords(texts):\n",
    "    return [[word for word in simple_preprocess(str(doc)) \n",
    "             if word not in stop_words] for doc in texts]\n",
    "\n",
    "\n",
    "data = papers.paper_text_processed.values.tolist()\n",
    "data_words = list(sent_to_words(data))\n"
   ]
  },
  {
   "cell_type": "code",
   "execution_count": 33,
   "metadata": {
    "colab": {
     "base_uri": "https://localhost:8080/"
    },
    "id": "TFjPeSKn9D7V",
    "outputId": "35ce7d68-7037-4cee-ba62-3a2d8fee979a"
   },
   "outputs": [
    {
     "name": "stdout",
     "output_type": "stream",
     "text": [
      "['hierarchical', 'eigensolver', 'transition', 'matrices', 'spectral', 'methods', 'chakra', 'chennubhotla', 'allan', 'jepson', 'department', 'computational', 'biology', 'university', 'pittsburgh', 'department', 'computer', 'science', 'university', 'toronto', 'abstract', 'show', 'build', 'hierarchical', 'reduced', 'rank', 'representation', 'large', 'stochastic', 'matrices']\n"
     ]
    }
   ],
   "source": [
    "# remove stop words\n",
    "data_words = remove_stopwords(data_words)\n",
    "\n",
    "print(data_words[:1][0][:30])"
   ]
  },
  {
   "cell_type": "code",
   "execution_count": 34,
   "metadata": {
    "colab": {
     "base_uri": "https://localhost:8080/"
    },
    "id": "-lK8BYK59GZd",
    "outputId": "c95e32e5-a0cb-480b-c586-1deb5aeaea1d"
   },
   "outputs": [
    {
     "name": "stdout",
     "output_type": "stream",
     "text": [
      "[(0, 1), (1, 4), (2, 1), (3, 1), (4, 2), (5, 1), (6, 1), (7, 3), (8, 2), (9, 2), (10, 1), (11, 2), (12, 1), (13, 1), (14, 2), (15, 1), (16, 3), (17, 21), (18, 1), (19, 2), (20, 3), (21, 5), (22, 14), (23, 10), (24, 3), (25, 1), (26, 1), (27, 1), (28, 1), (29, 4)]\n"
     ]
    }
   ],
   "source": [
    "import gensim.corpora as corpora\n",
    "\n",
    "# Create Dictionary\n",
    "id2word = corpora.Dictionary(data_words)\n",
    "\n",
    "# Create Corpus\n",
    "texts = data_words\n",
    "\n",
    "# Term Document Frequency\n",
    "corpus = [id2word.doc2bow(text) for text in texts]\n",
    "\n",
    "# View\n",
    "print(corpus[:1][0][:30])"
   ]
  },
  {
   "cell_type": "code",
   "execution_count": 35,
   "metadata": {
    "colab": {
     "base_uri": "https://localhost:8080/"
    },
    "id": "Xmub6K669JR2",
    "outputId": "6d35fb54-a5c0-4770-9cbd-7147e3494b81"
   },
   "outputs": [
    {
     "name": "stdout",
     "output_type": "stream",
     "text": [
      "[(0,\n",
      "  '0.006*\"model\" + 0.006*\"learning\" + 0.006*\"data\" + 0.004*\"function\" + '\n",
      "  '0.004*\"time\" + 0.004*\"set\" + 0.003*\"models\" + 0.003*\"algorithm\" + '\n",
      "  '0.003*\"distribution\" + 0.003*\"one\"'),\n",
      " (1,\n",
      "  '0.006*\"learning\" + 0.005*\"model\" + 0.005*\"algorithm\" + 0.005*\"set\" + '\n",
      "  '0.004*\"data\" + 0.003*\"number\" + 0.003*\"neural\" + 0.003*\"network\" + '\n",
      "  '0.003*\"training\" + 0.003*\"time\"'),\n",
      " (2,\n",
      "  '0.006*\"model\" + 0.005*\"figure\" + 0.005*\"data\" + 0.005*\"learning\" + '\n",
      "  '0.004*\"set\" + 0.004*\"using\" + 0.003*\"graph\" + 0.003*\"function\" + '\n",
      "  '0.003*\"one\" + 0.003*\"algorithm\"'),\n",
      " (3,\n",
      "  '0.007*\"model\" + 0.005*\"data\" + 0.004*\"function\" + 0.004*\"learning\" + '\n",
      "  '0.004*\"set\" + 0.004*\"algorithm\" + 0.004*\"one\" + 0.004*\"matrix\" + 0.003*\"xi\" '\n",
      "  '+ 0.003*\"results\"'),\n",
      " (4,\n",
      "  '0.007*\"model\" + 0.007*\"learning\" + 0.005*\"data\" + 0.004*\"set\" + '\n",
      "  '0.004*\"algorithm\" + 0.004*\"one\" + 0.004*\"figure\" + 0.004*\"time\" + '\n",
      "  '0.004*\"using\" + 0.004*\"number\"'),\n",
      " (5,\n",
      "  '0.007*\"learning\" + 0.007*\"model\" + 0.005*\"set\" + 0.005*\"algorithm\" + '\n",
      "  '0.004*\"data\" + 0.004*\"one\" + 0.004*\"models\" + 0.004*\"function\" + '\n",
      "  '0.003*\"training\" + 0.003*\"time\"'),\n",
      " (6,\n",
      "  '0.007*\"model\" + 0.005*\"data\" + 0.005*\"algorithm\" + 0.005*\"learning\" + '\n",
      "  '0.004*\"set\" + 0.004*\"time\" + 0.004*\"matrix\" + 0.004*\"using\" + '\n",
      "  '0.003*\"function\" + 0.003*\"one\"'),\n",
      " (7,\n",
      "  '0.006*\"model\" + 0.005*\"learning\" + 0.004*\"network\" + 0.004*\"algorithm\" + '\n",
      "  '0.004*\"set\" + 0.004*\"data\" + 0.004*\"figure\" + 0.003*\"one\" + 0.003*\"using\" + '\n",
      "  '0.003*\"time\"'),\n",
      " (8,\n",
      "  '0.006*\"learning\" + 0.006*\"model\" + 0.005*\"data\" + 0.004*\"algorithm\" + '\n",
      "  '0.004*\"set\" + 0.003*\"using\" + 0.003*\"figure\" + 0.003*\"distribution\" + '\n",
      "  '0.003*\"number\" + 0.003*\"problem\"'),\n",
      " (9,\n",
      "  '0.006*\"model\" + 0.005*\"learning\" + 0.005*\"algorithm\" + 0.005*\"data\" + '\n",
      "  '0.004*\"set\" + 0.004*\"figure\" + 0.003*\"function\" + 0.003*\"problem\" + '\n",
      "  '0.003*\"using\" + 0.003*\"matrix\"')]\n"
     ]
    }
   ],
   "source": [
    "#LDA Model Training\n",
    "from pprint import pprint\n",
    "\n",
    "# number of topics\n",
    "num_topics = 10\n",
    "\n",
    "# Build LDA model\n",
    "lda_model = gensim.models.LdaMulticore(corpus=corpus,\n",
    "                                       id2word=id2word,\n",
    "                                       num_topics=num_topics)\n",
    "\n",
    "# Print the Keyword in the 10 topics\n",
    "pprint(lda_model.print_topics())\n",
    "doc_lda = lda_model[corpus]"
   ]
  }
 ],
 "metadata": {
  "colab": {
   "authorship_tag": "ABX9TyNSXm6axUdLEMnln+cOOOtt",
   "collapsed_sections": [],
   "include_colab_link": true,
   "mount_file_id": "1cVVl-v_8ZTRL_uxgqCC7YE2YwLUmdceA",
   "name": "Assignment 3.ipynb",
   "provenance": []
  },
  "kernelspec": {
   "display_name": "Python 3",
   "language": "python",
   "name": "python3"
  },
  "language_info": {
   "codemirror_mode": {
    "name": "ipython",
    "version": 3
   },
   "file_extension": ".py",
   "mimetype": "text/x-python",
   "name": "python",
   "nbconvert_exporter": "python",
   "pygments_lexer": "ipython3",
   "version": "3.8.5"
  }
 },
 "nbformat": 4,
 "nbformat_minor": 1
}

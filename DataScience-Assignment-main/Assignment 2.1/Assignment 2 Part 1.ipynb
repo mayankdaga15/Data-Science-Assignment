{
 "cells": [
  {
   "cell_type": "code",
   "execution_count": 1,
   "metadata": {},
   "outputs": [],
   "source": [
    "#importing requried modules\n",
    "import numpy as np\n",
    "import pandas as pd\n",
    "import matplotlib.pyplot as plt\n",
    "import seaborn as sns\n",
    "import scipy as sp\n",
    "#from google.colab import files\n",
    "from sklearn import feature_extraction, model_selection, naive_bayes, metrics, svm\n",
    "from sklearn.ensemble import RandomForestClassifier\n",
    "from sklearn.model_selection import train_test_split\n",
    "from sklearn.metrics import precision_recall_fscore_support as score\n",
    "%matplotlib inline\n"
   ]
  },
  {
   "cell_type": "code",
   "execution_count": 2,
   "metadata": {},
   "outputs": [],
   "source": [
    "#conda install google.colab"
   ]
  },
  {
   "cell_type": "code",
   "execution_count": 3,
   "metadata": {},
   "outputs": [],
   "source": [
    "#uploaded = files.upload()\n",
    "dataset = pd.read_csv(\"../smsspamcollection/spam1.csv\")"
   ]
  },
  {
   "cell_type": "code",
   "execution_count": 4,
   "metadata": {},
   "outputs": [
    {
     "data": {
      "text/html": [
       "<div>\n",
       "<style scoped>\n",
       "    .dataframe tbody tr th:only-of-type {\n",
       "        vertical-align: middle;\n",
       "    }\n",
       "\n",
       "    .dataframe tbody tr th {\n",
       "        vertical-align: top;\n",
       "    }\n",
       "\n",
       "    .dataframe thead th {\n",
       "        text-align: right;\n",
       "    }\n",
       "</style>\n",
       "<table border=\"1\" class=\"dataframe\">\n",
       "  <thead>\n",
       "    <tr style=\"text-align: right;\">\n",
       "      <th></th>\n",
       "      <th>v1</th>\n",
       "      <th>v2</th>\n",
       "      <th>Unnamed: 2</th>\n",
       "      <th>Unnamed: 3</th>\n",
       "      <th>Unnamed: 4</th>\n",
       "    </tr>\n",
       "  </thead>\n",
       "  <tbody>\n",
       "    <tr>\n",
       "      <th>0</th>\n",
       "      <td>ham</td>\n",
       "      <td>Go until jurong point, crazy.. Available only ...</td>\n",
       "      <td>NaN</td>\n",
       "      <td>NaN</td>\n",
       "      <td>NaN</td>\n",
       "    </tr>\n",
       "    <tr>\n",
       "      <th>1</th>\n",
       "      <td>ham</td>\n",
       "      <td>Ok lar... Joking wif u oni...</td>\n",
       "      <td>NaN</td>\n",
       "      <td>NaN</td>\n",
       "      <td>NaN</td>\n",
       "    </tr>\n",
       "    <tr>\n",
       "      <th>2</th>\n",
       "      <td>spam</td>\n",
       "      <td>Free entry in 2 a wkly comp to win FA Cup fina...</td>\n",
       "      <td>NaN</td>\n",
       "      <td>NaN</td>\n",
       "      <td>NaN</td>\n",
       "    </tr>\n",
       "    <tr>\n",
       "      <th>3</th>\n",
       "      <td>ham</td>\n",
       "      <td>U dun say so early hor... U c already then say...</td>\n",
       "      <td>NaN</td>\n",
       "      <td>NaN</td>\n",
       "      <td>NaN</td>\n",
       "    </tr>\n",
       "    <tr>\n",
       "      <th>4</th>\n",
       "      <td>ham</td>\n",
       "      <td>Nah I don't think he goes to usf, he lives aro...</td>\n",
       "      <td>NaN</td>\n",
       "      <td>NaN</td>\n",
       "      <td>NaN</td>\n",
       "    </tr>\n",
       "  </tbody>\n",
       "</table>\n",
       "</div>"
      ],
      "text/plain": [
       "     v1                                                 v2 Unnamed: 2  \\\n",
       "0   ham  Go until jurong point, crazy.. Available only ...        NaN   \n",
       "1   ham                      Ok lar... Joking wif u oni...        NaN   \n",
       "2  spam  Free entry in 2 a wkly comp to win FA Cup fina...        NaN   \n",
       "3   ham  U dun say so early hor... U c already then say...        NaN   \n",
       "4   ham  Nah I don't think he goes to usf, he lives aro...        NaN   \n",
       "\n",
       "  Unnamed: 3 Unnamed: 4  \n",
       "0        NaN        NaN  \n",
       "1        NaN        NaN  \n",
       "2        NaN        NaN  \n",
       "3        NaN        NaN  \n",
       "4        NaN        NaN  "
      ]
     },
     "execution_count": 4,
     "metadata": {},
     "output_type": "execute_result"
    }
   ],
   "source": [
    "dataset.head()"
   ]
  },
  {
   "cell_type": "code",
   "execution_count": 5,
   "metadata": {},
   "outputs": [],
   "source": [
    "#removing unnamed columns\n",
    "dataset = dataset.drop('Unnamed: 2', 1)\n",
    "dataset = dataset.drop('Unnamed: 3', 1)\n",
    "dataset = dataset.drop('Unnamed: 4', 1)"
   ]
  },
  {
   "cell_type": "code",
   "execution_count": 6,
   "metadata": {},
   "outputs": [
    {
     "data": {
      "text/html": [
       "<div>\n",
       "<style scoped>\n",
       "    .dataframe tbody tr th:only-of-type {\n",
       "        vertical-align: middle;\n",
       "    }\n",
       "\n",
       "    .dataframe tbody tr th {\n",
       "        vertical-align: top;\n",
       "    }\n",
       "\n",
       "    .dataframe thead th {\n",
       "        text-align: right;\n",
       "    }\n",
       "</style>\n",
       "<table border=\"1\" class=\"dataframe\">\n",
       "  <thead>\n",
       "    <tr style=\"text-align: right;\">\n",
       "      <th></th>\n",
       "      <th>v1</th>\n",
       "      <th>v2</th>\n",
       "    </tr>\n",
       "  </thead>\n",
       "  <tbody>\n",
       "    <tr>\n",
       "      <th>0</th>\n",
       "      <td>ham</td>\n",
       "      <td>Go until jurong point, crazy.. Available only ...</td>\n",
       "    </tr>\n",
       "    <tr>\n",
       "      <th>1</th>\n",
       "      <td>ham</td>\n",
       "      <td>Ok lar... Joking wif u oni...</td>\n",
       "    </tr>\n",
       "    <tr>\n",
       "      <th>2</th>\n",
       "      <td>spam</td>\n",
       "      <td>Free entry in 2 a wkly comp to win FA Cup fina...</td>\n",
       "    </tr>\n",
       "    <tr>\n",
       "      <th>3</th>\n",
       "      <td>ham</td>\n",
       "      <td>U dun say so early hor... U c already then say...</td>\n",
       "    </tr>\n",
       "    <tr>\n",
       "      <th>4</th>\n",
       "      <td>ham</td>\n",
       "      <td>Nah I don't think he goes to usf, he lives aro...</td>\n",
       "    </tr>\n",
       "  </tbody>\n",
       "</table>\n",
       "</div>"
      ],
      "text/plain": [
       "     v1                                                 v2\n",
       "0   ham  Go until jurong point, crazy.. Available only ...\n",
       "1   ham                      Ok lar... Joking wif u oni...\n",
       "2  spam  Free entry in 2 a wkly comp to win FA Cup fina...\n",
       "3   ham  U dun say so early hor... U c already then say...\n",
       "4   ham  Nah I don't think he goes to usf, he lives aro..."
      ]
     },
     "execution_count": 6,
     "metadata": {},
     "output_type": "execute_result"
    }
   ],
   "source": [
    "dataset.head()"
   ]
  },
  {
   "cell_type": "code",
   "execution_count": 7,
   "metadata": {},
   "outputs": [],
   "source": [
    "dataset = dataset.rename(columns = {'v1':'label','v2':'message'})\n"
   ]
  },
  {
   "cell_type": "code",
   "execution_count": 8,
   "metadata": {},
   "outputs": [
    {
     "data": {
      "text/html": [
       "<div>\n",
       "<style scoped>\n",
       "    .dataframe tbody tr th:only-of-type {\n",
       "        vertical-align: middle;\n",
       "    }\n",
       "\n",
       "    .dataframe tbody tr th {\n",
       "        vertical-align: top;\n",
       "    }\n",
       "\n",
       "    .dataframe thead tr th {\n",
       "        text-align: left;\n",
       "    }\n",
       "\n",
       "    .dataframe thead tr:last-of-type th {\n",
       "        text-align: right;\n",
       "    }\n",
       "</style>\n",
       "<table border=\"1\" class=\"dataframe\">\n",
       "  <thead>\n",
       "    <tr>\n",
       "      <th></th>\n",
       "      <th colspan=\"4\" halign=\"left\">message</th>\n",
       "    </tr>\n",
       "    <tr>\n",
       "      <th></th>\n",
       "      <th>count</th>\n",
       "      <th>unique</th>\n",
       "      <th>top</th>\n",
       "      <th>freq</th>\n",
       "    </tr>\n",
       "    <tr>\n",
       "      <th>label</th>\n",
       "      <th></th>\n",
       "      <th></th>\n",
       "      <th></th>\n",
       "      <th></th>\n",
       "    </tr>\n",
       "  </thead>\n",
       "  <tbody>\n",
       "    <tr>\n",
       "      <th>ham</th>\n",
       "      <td>4825</td>\n",
       "      <td>4516</td>\n",
       "      <td>Sorry, I'll call later</td>\n",
       "      <td>30</td>\n",
       "    </tr>\n",
       "    <tr>\n",
       "      <th>spam</th>\n",
       "      <td>747</td>\n",
       "      <td>653</td>\n",
       "      <td>Please call our customer service representativ...</td>\n",
       "      <td>4</td>\n",
       "    </tr>\n",
       "  </tbody>\n",
       "</table>\n",
       "</div>"
      ],
      "text/plain": [
       "      message                                                               \n",
       "        count unique                                                top freq\n",
       "label                                                                       \n",
       "ham      4825   4516                             Sorry, I'll call later   30\n",
       "spam      747    653  Please call our customer service representativ...    4"
      ]
     },
     "execution_count": 8,
     "metadata": {},
     "output_type": "execute_result"
    }
   ],
   "source": [
    "dataset.groupby('label').describe()"
   ]
  },
  {
   "cell_type": "code",
   "execution_count": 9,
   "metadata": {},
   "outputs": [
    {
     "data": {
      "text/html": [
       "<div>\n",
       "<style scoped>\n",
       "    .dataframe tbody tr th:only-of-type {\n",
       "        vertical-align: middle;\n",
       "    }\n",
       "\n",
       "    .dataframe tbody tr th {\n",
       "        vertical-align: top;\n",
       "    }\n",
       "\n",
       "    .dataframe thead th {\n",
       "        text-align: right;\n",
       "    }\n",
       "</style>\n",
       "<table border=\"1\" class=\"dataframe\">\n",
       "  <thead>\n",
       "    <tr style=\"text-align: right;\">\n",
       "      <th></th>\n",
       "      <th>label</th>\n",
       "      <th>message</th>\n",
       "    </tr>\n",
       "  </thead>\n",
       "  <tbody>\n",
       "    <tr>\n",
       "      <th>0</th>\n",
       "      <td>ham</td>\n",
       "      <td>Go until jurong point, crazy.. Available only ...</td>\n",
       "    </tr>\n",
       "    <tr>\n",
       "      <th>1</th>\n",
       "      <td>ham</td>\n",
       "      <td>Ok lar... Joking wif u oni...</td>\n",
       "    </tr>\n",
       "    <tr>\n",
       "      <th>2</th>\n",
       "      <td>spam</td>\n",
       "      <td>Free entry in 2 a wkly comp to win FA Cup fina...</td>\n",
       "    </tr>\n",
       "    <tr>\n",
       "      <th>3</th>\n",
       "      <td>ham</td>\n",
       "      <td>U dun say so early hor... U c already then say...</td>\n",
       "    </tr>\n",
       "  </tbody>\n",
       "</table>\n",
       "</div>"
      ],
      "text/plain": [
       "  label                                            message\n",
       "0   ham  Go until jurong point, crazy.. Available only ...\n",
       "1   ham                      Ok lar... Joking wif u oni...\n",
       "2  spam  Free entry in 2 a wkly comp to win FA Cup fina...\n",
       "3   ham  U dun say so early hor... U c already then say..."
      ]
     },
     "execution_count": 9,
     "metadata": {},
     "output_type": "execute_result"
    }
   ],
   "source": [
    "dataset.head(4)"
   ]
  },
  {
   "cell_type": "code",
   "execution_count": 10,
   "metadata": {},
   "outputs": [
    {
     "data": {
      "image/png": "[encoded data removed]",
      "text/plain": [
       "<Figure size 432x288 with 1 Axes>"
      ]
     },
     "metadata": {
      "needs_background": "light"
     },
     "output_type": "display_data"
    }
   ],
   "source": [
    "count = pd.value_counts(dataset[\"label\"],sort=True)\n",
    "count.plot(kind=\"bar\",color=[\"red\",\"blue\"])\n",
    "plt.plot('Bar plot')\n",
    "plt.show()"
   ]
  },
  {
   "cell_type": "code",
   "execution_count": 11,
   "metadata": {},
   "outputs": [
    {
     "data": {
      "text/plain": [
       "(5572, 8405)"
      ]
     },
     "execution_count": 11,
     "metadata": {},
     "output_type": "execute_result"
    }
   ],
   "source": [
    "f = feature_extraction.text.CountVectorizer(stop_words ='english')\n",
    "X = f.fit_transform(dataset[\"message\"])\n",
    "np.shape(X)"
   ]
  },
  {
   "cell_type": "code",
   "execution_count": 12,
   "metadata": {},
   "outputs": [],
   "source": [
    "dataset[\"label\"]= dataset[\"label\"].map({\"spam\":1,\"ham\":0})\n",
    "X_train,X_test, y_train, y_test = model_selection.train_test_split(X, dataset['label'], test_size=0.70, random_state=42)"
   ]
  },
  {
   "cell_type": "code",
   "execution_count": 13,
   "metadata": {},
   "outputs": [],
   "source": [
    "list_alpha = np.arange(1/100000, 20, 0.11)\n",
    "score_train = np.zeros(len(list_alpha))\n",
    "score_test = np.zeros(len(list_alpha))\n",
    "recall_test = np.zeros(len(list_alpha))\n",
    "precision_test= np.zeros(len(list_alpha))\n",
    "count = 0\n",
    "for alpha in list_alpha:\n",
    "    bayes = naive_bayes.MultinomialNB(alpha=alpha)\n",
    "    bayes.fit(X_train, y_train)\n",
    "    score_train[count] = bayes.score(X_train, y_train)\n",
    "    score_test[count]= bayes.score(X_test, y_test)\n",
    "    recall_test[count] = metrics.recall_score(y_test, bayes.predict(X_test))\n",
    "    precision_test[count] = metrics.precision_score(y_test, bayes.predict(X_test))\n",
    "    count = count + 1 "
   ]
  },
  {
   "cell_type": "code",
   "execution_count": 14,
   "metadata": {},
   "outputs": [
    {
     "data": {
      "text/html": [
       "<div>\n",
       "<style scoped>\n",
       "    .dataframe tbody tr th:only-of-type {\n",
       "        vertical-align: middle;\n",
       "    }\n",
       "\n",
       "    .dataframe tbody tr th {\n",
       "        vertical-align: top;\n",
       "    }\n",
       "\n",
       "    .dataframe thead th {\n",
       "        text-align: right;\n",
       "    }\n",
       "</style>\n",
       "<table border=\"1\" class=\"dataframe\">\n",
       "  <thead>\n",
       "    <tr style=\"text-align: right;\">\n",
       "      <th></th>\n",
       "      <th>alpha</th>\n",
       "      <th>Train Accuracy</th>\n",
       "      <th>Test Accuracy</th>\n",
       "      <th>Test Recall</th>\n",
       "      <th>Test Precision</th>\n",
       "    </tr>\n",
       "  </thead>\n",
       "  <tbody>\n",
       "    <tr>\n",
       "      <th>0</th>\n",
       "      <td>0.00001</td>\n",
       "      <td>0.998803</td>\n",
       "      <td>0.961805</td>\n",
       "      <td>0.913793</td>\n",
       "      <td>0.820998</td>\n",
       "    </tr>\n",
       "    <tr>\n",
       "      <th>1</th>\n",
       "      <td>0.11001</td>\n",
       "      <td>0.998803</td>\n",
       "      <td>0.966163</td>\n",
       "      <td>0.946360</td>\n",
       "      <td>0.826087</td>\n",
       "    </tr>\n",
       "    <tr>\n",
       "      <th>2</th>\n",
       "      <td>0.22001</td>\n",
       "      <td>0.999402</td>\n",
       "      <td>0.967444</td>\n",
       "      <td>0.938697</td>\n",
       "      <td>0.837607</td>\n",
       "    </tr>\n",
       "    <tr>\n",
       "      <th>3</th>\n",
       "      <td>0.33001</td>\n",
       "      <td>0.999402</td>\n",
       "      <td>0.968726</td>\n",
       "      <td>0.938697</td>\n",
       "      <td>0.844828</td>\n",
       "    </tr>\n",
       "    <tr>\n",
       "      <th>4</th>\n",
       "      <td>0.44001</td>\n",
       "      <td>0.999402</td>\n",
       "      <td>0.971289</td>\n",
       "      <td>0.927203</td>\n",
       "      <td>0.867384</td>\n",
       "    </tr>\n",
       "    <tr>\n",
       "      <th>5</th>\n",
       "      <td>0.55001</td>\n",
       "      <td>0.998803</td>\n",
       "      <td>0.976160</td>\n",
       "      <td>0.925287</td>\n",
       "      <td>0.899441</td>\n",
       "    </tr>\n",
       "    <tr>\n",
       "      <th>6</th>\n",
       "      <td>0.66001</td>\n",
       "      <td>0.998803</td>\n",
       "      <td>0.976160</td>\n",
       "      <td>0.919540</td>\n",
       "      <td>0.903955</td>\n",
       "    </tr>\n",
       "    <tr>\n",
       "      <th>7</th>\n",
       "      <td>0.77001</td>\n",
       "      <td>0.997606</td>\n",
       "      <td>0.977698</td>\n",
       "      <td>0.917625</td>\n",
       "      <td>0.915870</td>\n",
       "    </tr>\n",
       "    <tr>\n",
       "      <th>8</th>\n",
       "      <td>0.88001</td>\n",
       "      <td>0.997606</td>\n",
       "      <td>0.977954</td>\n",
       "      <td>0.909962</td>\n",
       "      <td>0.924125</td>\n",
       "    </tr>\n",
       "    <tr>\n",
       "      <th>9</th>\n",
       "      <td>0.99001</td>\n",
       "      <td>0.997606</td>\n",
       "      <td>0.978980</td>\n",
       "      <td>0.902299</td>\n",
       "      <td>0.938247</td>\n",
       "    </tr>\n",
       "  </tbody>\n",
       "</table>\n",
       "</div>"
      ],
      "text/plain": [
       "     alpha  Train Accuracy  Test Accuracy  Test Recall  Test Precision\n",
       "0  0.00001        0.998803       0.961805     0.913793        0.820998\n",
       "1  0.11001        0.998803       0.966163     0.946360        0.826087\n",
       "2  0.22001        0.999402       0.967444     0.938697        0.837607\n",
       "3  0.33001        0.999402       0.968726     0.938697        0.844828\n",
       "4  0.44001        0.999402       0.971289     0.927203        0.867384\n",
       "5  0.55001        0.998803       0.976160     0.925287        0.899441\n",
       "6  0.66001        0.998803       0.976160     0.919540        0.903955\n",
       "7  0.77001        0.997606       0.977698     0.917625        0.915870\n",
       "8  0.88001        0.997606       0.977954     0.909962        0.924125\n",
       "9  0.99001        0.997606       0.978980     0.902299        0.938247"
      ]
     },
     "execution_count": 14,
     "metadata": {},
     "output_type": "execute_result"
    }
   ],
   "source": [
    "matrix = np.matrix(np.c_[list_alpha, score_train, score_test, recall_test, precision_test])\n",
    "models = pd.DataFrame(data = matrix, columns = \n",
    "             ['alpha', 'Train Accuracy', 'Test Accuracy', 'Test Recall', 'Test Precision'])\n",
    "models.head(n=10)"
   ]
  },
  {
   "cell_type": "code",
   "execution_count": 15,
   "metadata": {},
   "outputs": [
    {
     "data": {
      "text/plain": [
       "alpha             10.670010\n",
       "Train Accuracy     0.977259\n",
       "Test Accuracy      0.962574\n",
       "Test Recall        0.720307\n",
       "Test Precision     1.000000\n",
       "Name: 97, dtype: float64"
      ]
     },
     "execution_count": 15,
     "metadata": {},
     "output_type": "execute_result"
    }
   ],
   "source": [
    "best_index = models['Test Precision'].idxmax()\n",
    "models.iloc[best_index,:]"
   ]
  },
  {
   "cell_type": "code",
   "execution_count": 16,
   "metadata": {},
   "outputs": [],
   "source": [
    "#Random Forest Method\n",
    "rf = RandomForestClassifier(n_estimators=100,max_depth=None,n_jobs=-1)\n",
    "rf_model = rf.fit(X_train,y_train)"
   ]
  },
  {
   "cell_type": "code",
   "execution_count": 17,
   "metadata": {},
   "outputs": [
    {
     "name": "stdout",
     "output_type": "stream",
     "text": [
      "Precision : 0.992 / Recall : 0.741 / fscore : 0.849 / Accuracy: 0.965\n"
     ]
    }
   ],
   "source": [
    "y_pred = rf_model.predict(X_test)\n",
    "precision,recall,fscore,support =score(y_test,y_pred,pos_label=1, average ='binary')\n",
    "print('Precision : {} / Recall : {} / fscore : {} / Accuracy: {}'.format(round(precision,3),round(recall,3),round(fscore,3),round((y_pred==y_test).sum()/len(y_test),3)))\n"
   ]
  },
  {
   "cell_type": "code",
   "execution_count": 18,
   "metadata": {},
   "outputs": [],
   "source": [
    "#Using NLP using and TensorFlow\n",
    "import tensorflow as tf\n",
    "from tensorflow.keras.preprocessing.text import Tokenizer\n",
    "from tensorflow.keras.layers import Embedding, LSTM, Dropout, Dense\n",
    "from tensorflow.keras.models import Sequential\n",
    "from tensorflow.keras.utils import to_categorical\n",
    "from tensorflow.keras.preprocessing.sequence import pad_sequences\n",
    "import tensorflow as tf"
   ]
  },
  {
   "cell_type": "code",
   "execution_count": 19,
   "metadata": {},
   "outputs": [],
   "source": [
    "vocab_size = 400\n",
    "oov_tok = \"<OOV>\"\n",
    "max_length = 250\n",
    "embedding_dim = 16\n",
    "encode = ({'ham': 0, 'spam': 1} )\n",
    "#new dataset with replaced values\n",
    "dataset = dataset.replace(encode)"
   ]
  },
  {
   "cell_type": "code",
   "execution_count": 20,
   "metadata": {},
   "outputs": [],
   "source": [
    "X = dataset['message']\n",
    "Y = dataset['label']\n",
    "tokenizer = Tokenizer(num_words=vocab_size, oov_token=oov_tok)\n",
    "tokenizer.fit_on_texts(X)\n",
    "# convert to sequence of integers\n",
    "X = tokenizer.texts_to_sequences(X)"
   ]
  },
  {
   "cell_type": "code",
   "execution_count": 21,
   "metadata": {},
   "outputs": [
    {
     "name": "stderr",
     "output_type": "stream",
     "text": [
      "<ipython-input-21-67c34fac1eac>:1: VisibleDeprecationWarning: Creating an ndarray from ragged nested sequences (which is a list-or-tuple of lists-or-tuples-or ndarrays with different lengths or shapes) is deprecated. If you meant to do this, you must specify 'dtype=object' when creating the ndarray.\n",
      "  X = np.array(X)\n"
     ]
    }
   ],
   "source": [
    "X = np.array(X)\n",
    "y = np.array(Y)"
   ]
  },
  {
   "cell_type": "code",
   "execution_count": 22,
   "metadata": {},
   "outputs": [],
   "source": [
    "X = pad_sequences(X, maxlen=max_length)"
   ]
  },
  {
   "cell_type": "code",
   "execution_count": 23,
   "metadata": {},
   "outputs": [
    {
     "name": "stdout",
     "output_type": "stream",
     "text": [
      "Model: \"sequential\"\n",
      "_________________________________________________________________\n",
      " Layer (type)                Output Shape              Param #   \n",
      "=================================================================\n",
      " embedding (Embedding)       (None, 250, 16)           6400      \n",
      "                                                                 \n",
      " global_average_pooling1d (G  (None, 16)               0         \n",
      " lobalAveragePooling1D)                                          \n",
      "                                                                 \n",
      " dense (Dense)               (None, 24)                408       \n",
      "                                                                 \n",
      " dense_1 (Dense)             (None, 1)                 25        \n",
      "                                                                 \n",
      "=================================================================\n",
      "Total params: 6,833\n",
      "Trainable params: 6,833\n",
      "Non-trainable params: 0\n",
      "_________________________________________________________________\n"
     ]
    }
   ],
   "source": [
    "model = tf.keras.Sequential([\n",
    "    tf.keras.layers.Embedding(vocab_size, embedding_dim, input_length=max_length),\n",
    "    tf.keras.layers.GlobalAveragePooling1D(),\n",
    "    tf.keras.layers.Dense(24, activation='relu'),\n",
    "    tf.keras.layers.Dense(1, activation='sigmoid')\n",
    "])\n",
    "model.compile(loss='binary_crossentropy',optimizer='adam',metrics=['accuracy'])\n",
    "model.summary()"
   ]
  },
  {
   "cell_type": "code",
   "execution_count": 24,
   "metadata": {},
   "outputs": [
    {
     "name": "stdout",
     "output_type": "stream",
     "text": [
      "Epoch 1/50\n",
      "140/140 - 3s - loss: 0.5097 - accuracy: 0.8649 - val_loss: 0.3767 - val_accuracy: 0.8700 - 3s/epoch - 22ms/step\n",
      "Epoch 2/50\n",
      "140/140 - 1s - loss: 0.3791 - accuracy: 0.8649 - val_loss: 0.3643 - val_accuracy: 0.8700 - 865ms/epoch - 6ms/step\n",
      "Epoch 3/50\n",
      "140/140 - 1s - loss: 0.3671 - accuracy: 0.8649 - val_loss: 0.3510 - val_accuracy: 0.8700 - 730ms/epoch - 5ms/step\n",
      "Epoch 4/50\n",
      "140/140 - 1s - loss: 0.3508 - accuracy: 0.8649 - val_loss: 0.3319 - val_accuracy: 0.8700 - 721ms/epoch - 5ms/step\n",
      "Epoch 5/50\n",
      "140/140 - 1s - loss: 0.3240 - accuracy: 0.8649 - val_loss: 0.2990 - val_accuracy: 0.8700 - 700ms/epoch - 5ms/step\n",
      "Epoch 6/50\n",
      "140/140 - 1s - loss: 0.2781 - accuracy: 0.8649 - val_loss: 0.2438 - val_accuracy: 0.8700 - 700ms/epoch - 5ms/step\n",
      "Epoch 7/50\n",
      "140/140 - 1s - loss: 0.2197 - accuracy: 0.8860 - val_loss: 0.1843 - val_accuracy: 0.9238 - 702ms/epoch - 5ms/step\n",
      "Epoch 8/50\n",
      "140/140 - 1s - loss: 0.1693 - accuracy: 0.9423 - val_loss: 0.1406 - val_accuracy: 0.9552 - 716ms/epoch - 5ms/step\n",
      "Epoch 9/50\n",
      "140/140 - 1s - loss: 0.1332 - accuracy: 0.9583 - val_loss: 0.1163 - val_accuracy: 0.9623 - 697ms/epoch - 5ms/step\n",
      "Epoch 10/50\n",
      "140/140 - 1s - loss: 0.1132 - accuracy: 0.9632 - val_loss: 0.0975 - val_accuracy: 0.9641 - 695ms/epoch - 5ms/step\n",
      "Epoch 11/50\n",
      "140/140 - 1s - loss: 0.0996 - accuracy: 0.9670 - val_loss: 0.0850 - val_accuracy: 0.9677 - 703ms/epoch - 5ms/step\n",
      "Epoch 12/50\n",
      "140/140 - 1s - loss: 0.0929 - accuracy: 0.9697 - val_loss: 0.0798 - val_accuracy: 0.9722 - 724ms/epoch - 5ms/step\n",
      "Epoch 13/50\n",
      "140/140 - 1s - loss: 0.0829 - accuracy: 0.9722 - val_loss: 0.0703 - val_accuracy: 0.9740 - 688ms/epoch - 5ms/step\n",
      "Epoch 14/50\n",
      "140/140 - 1s - loss: 0.0773 - accuracy: 0.9737 - val_loss: 0.0650 - val_accuracy: 0.9785 - 718ms/epoch - 5ms/step\n",
      "Epoch 15/50\n",
      "140/140 - 1s - loss: 0.0711 - accuracy: 0.9755 - val_loss: 0.0622 - val_accuracy: 0.9794 - 726ms/epoch - 5ms/step\n",
      "Epoch 16/50\n",
      "140/140 - 1s - loss: 0.0672 - accuracy: 0.9773 - val_loss: 0.0572 - val_accuracy: 0.9803 - 701ms/epoch - 5ms/step\n",
      "Epoch 17/50\n",
      "140/140 - 1s - loss: 0.0640 - accuracy: 0.9785 - val_loss: 0.0547 - val_accuracy: 0.9812 - 685ms/epoch - 5ms/step\n",
      "Epoch 18/50\n",
      "140/140 - 1s - loss: 0.0614 - accuracy: 0.9787 - val_loss: 0.0538 - val_accuracy: 0.9821 - 718ms/epoch - 5ms/step\n",
      "Epoch 19/50\n",
      "140/140 - 1s - loss: 0.0591 - accuracy: 0.9803 - val_loss: 0.0513 - val_accuracy: 0.9830 - 684ms/epoch - 5ms/step\n",
      "Epoch 20/50\n",
      "140/140 - 1s - loss: 0.0559 - accuracy: 0.9809 - val_loss: 0.0494 - val_accuracy: 0.9830 - 804ms/epoch - 6ms/step\n",
      "Epoch 21/50\n",
      "140/140 - 1s - loss: 0.0539 - accuracy: 0.9825 - val_loss: 0.0481 - val_accuracy: 0.9839 - 709ms/epoch - 5ms/step\n",
      "Epoch 22/50\n",
      "140/140 - 1s - loss: 0.0520 - accuracy: 0.9827 - val_loss: 0.0560 - val_accuracy: 0.9803 - 701ms/epoch - 5ms/step\n",
      "Epoch 23/50\n",
      "140/140 - 1s - loss: 0.0511 - accuracy: 0.9832 - val_loss: 0.0461 - val_accuracy: 0.9865 - 751ms/epoch - 5ms/step\n",
      "Epoch 24/50\n",
      "140/140 - 1s - loss: 0.0493 - accuracy: 0.9841 - val_loss: 0.0539 - val_accuracy: 0.9821 - 803ms/epoch - 6ms/step\n",
      "Epoch 25/50\n",
      "140/140 - 1s - loss: 0.0480 - accuracy: 0.9852 - val_loss: 0.0446 - val_accuracy: 0.9865 - 655ms/epoch - 5ms/step\n",
      "Epoch 26/50\n",
      "140/140 - 1s - loss: 0.0488 - accuracy: 0.9829 - val_loss: 0.0446 - val_accuracy: 0.9883 - 761ms/epoch - 5ms/step\n",
      "Epoch 27/50\n",
      "140/140 - 1s - loss: 0.0460 - accuracy: 0.9856 - val_loss: 0.0489 - val_accuracy: 0.9830 - 735ms/epoch - 5ms/step\n",
      "Epoch 28/50\n",
      "140/140 - 1s - loss: 0.0442 - accuracy: 0.9852 - val_loss: 0.0448 - val_accuracy: 0.9865 - 687ms/epoch - 5ms/step\n",
      "Epoch 29/50\n",
      "140/140 - 1s - loss: 0.0431 - accuracy: 0.9850 - val_loss: 0.0433 - val_accuracy: 0.9892 - 740ms/epoch - 5ms/step\n",
      "Epoch 30/50\n",
      "140/140 - 1s - loss: 0.0436 - accuracy: 0.9847 - val_loss: 0.0436 - val_accuracy: 0.9865 - 859ms/epoch - 6ms/step\n",
      "Epoch 31/50\n",
      "140/140 - 1s - loss: 0.0415 - accuracy: 0.9863 - val_loss: 0.0427 - val_accuracy: 0.9874 - 842ms/epoch - 6ms/step\n",
      "Epoch 32/50\n",
      "140/140 - 1s - loss: 0.0403 - accuracy: 0.9859 - val_loss: 0.0422 - val_accuracy: 0.9892 - 682ms/epoch - 5ms/step\n",
      "Epoch 33/50\n",
      "140/140 - 1s - loss: 0.0404 - accuracy: 0.9859 - val_loss: 0.0440 - val_accuracy: 0.9883 - 696ms/epoch - 5ms/step\n",
      "Epoch 34/50\n",
      "140/140 - 1s - loss: 0.0384 - accuracy: 0.9881 - val_loss: 0.0431 - val_accuracy: 0.9892 - 706ms/epoch - 5ms/step\n",
      "Epoch 35/50\n",
      "140/140 - 1s - loss: 0.0380 - accuracy: 0.9872 - val_loss: 0.0415 - val_accuracy: 0.9874 - 690ms/epoch - 5ms/step\n",
      "Epoch 36/50\n",
      "140/140 - 1s - loss: 0.0380 - accuracy: 0.9870 - val_loss: 0.0428 - val_accuracy: 0.9892 - 703ms/epoch - 5ms/step\n",
      "Epoch 37/50\n",
      "140/140 - 1s - loss: 0.0360 - accuracy: 0.9881 - val_loss: 0.0415 - val_accuracy: 0.9874 - 756ms/epoch - 5ms/step\n",
      "Epoch 38/50\n",
      "140/140 - 1s - loss: 0.0369 - accuracy: 0.9881 - val_loss: 0.0408 - val_accuracy: 0.9892 - 804ms/epoch - 6ms/step\n",
      "Epoch 39/50\n",
      "140/140 - 1s - loss: 0.0358 - accuracy: 0.9888 - val_loss: 0.0407 - val_accuracy: 0.9892 - 693ms/epoch - 5ms/step\n",
      "Epoch 40/50\n",
      "140/140 - 1s - loss: 0.0339 - accuracy: 0.9886 - val_loss: 0.0406 - val_accuracy: 0.9901 - 700ms/epoch - 5ms/step\n",
      "Epoch 41/50\n",
      "140/140 - 1s - loss: 0.0339 - accuracy: 0.9886 - val_loss: 0.0407 - val_accuracy: 0.9901 - 719ms/epoch - 5ms/step\n",
      "Epoch 42/50\n",
      "140/140 - 1s - loss: 0.0332 - accuracy: 0.9886 - val_loss: 0.0410 - val_accuracy: 0.9883 - 711ms/epoch - 5ms/step\n",
      "Epoch 43/50\n",
      "140/140 - 1s - loss: 0.0328 - accuracy: 0.9892 - val_loss: 0.0450 - val_accuracy: 0.9892 - 702ms/epoch - 5ms/step\n",
      "Epoch 44/50\n",
      "140/140 - 1s - loss: 0.0332 - accuracy: 0.9904 - val_loss: 0.0431 - val_accuracy: 0.9874 - 862ms/epoch - 6ms/step\n",
      "Epoch 45/50\n",
      "140/140 - 1s - loss: 0.0319 - accuracy: 0.9895 - val_loss: 0.0408 - val_accuracy: 0.9883 - 797ms/epoch - 6ms/step\n",
      "Epoch 46/50\n",
      "140/140 - 1s - loss: 0.0308 - accuracy: 0.9897 - val_loss: 0.0411 - val_accuracy: 0.9910 - 703ms/epoch - 5ms/step\n",
      "Epoch 47/50\n",
      "140/140 - 1s - loss: 0.0298 - accuracy: 0.9906 - val_loss: 0.0407 - val_accuracy: 0.9883 - 717ms/epoch - 5ms/step\n",
      "Epoch 48/50\n",
      "140/140 - 1s - loss: 0.0302 - accuracy: 0.9899 - val_loss: 0.0428 - val_accuracy: 0.9874 - 734ms/epoch - 5ms/step\n",
      "Epoch 49/50\n",
      "140/140 - 1s - loss: 0.0291 - accuracy: 0.9908 - val_loss: 0.0486 - val_accuracy: 0.9892 - 692ms/epoch - 5ms/step\n",
      "Epoch 50/50\n",
      "140/140 - 1s - loss: 0.0307 - accuracy: 0.9899 - val_loss: 0.0408 - val_accuracy: 0.9892 - 714ms/epoch - 5ms/step\n"
     ]
    }
   ],
   "source": [
    "num_epochs = 50\n",
    "X_train, X_test, y_train, y_test = train_test_split(X, Y, test_size=.20, random_state=7)\n",
    "history = model.fit(X_train, y_train, epochs=num_epochs, validation_data=(X_test,y_test), verbose=2)"
   ]
  },
  {
   "cell_type": "code",
   "execution_count": 25,
   "metadata": {},
   "outputs": [
    {
     "name": "stdout",
     "output_type": "stream",
     "text": [
      "35/35 [==============================] - 0s 4ms/step - loss: 0.0408 - accuracy: 0.9892\n",
      "[+] Accuracy: 98.92%\n"
     ]
    }
   ],
   "source": [
    "results = model.evaluate(X_test, y_test)\n",
    "loss = results[0]\n",
    "accuracy = results[1]\n",
    "\n",
    "\n",
    "print(f\"[+] Accuracy: {accuracy*100:.2f}%\")"
   ]
  },
  {
   "cell_type": "code",
   "execution_count": 26,
   "metadata": {},
   "outputs": [],
   "source": [
    "from tensorflow.keras.preprocessing import sequence\n"
   ]
  },
  {
   "cell_type": "code",
   "execution_count": 27,
   "metadata": {},
   "outputs": [],
   "source": [
    "#Defining the function\n",
    "def get_predictions(txts):\n",
    "    txts = tokenizer.texts_to_sequences(txts)\n",
    "    txts = sequence.pad_sequences(txts, maxlen=max_length)\n",
    "    preds = model.predict(txts)\n",
    "    if(preds[0] > 0.5):\n",
    "        print(\"SPAM MESSAGE\")\n",
    "    else:\n",
    "        print('NOT SPAM')"
   ]
  },
  {
   "cell_type": "code",
   "execution_count": 28,
   "metadata": {},
   "outputs": [
    {
     "name": "stdout",
     "output_type": "stream",
     "text": [
      "1/1 [==============================] - 0s 167ms/step\n",
      "SPAM MESSAGE\n",
      "None\n",
      "1/1 [==============================] - 0s 29ms/step\n",
      "NOT SPAM\n",
      "None\n"
     ]
    }
   ],
   "source": [
    "txts=[\"You have won a free ticket to las vegas. Contact now\"]\n",
    "print(get_predictions(txts))\n",
    "txts=[\"Hey there call me asap!!\"]\n",
    "print(get_predictions(txts))"
   ]
  }
 ],
 "metadata": {
  "kernelspec": {
   "display_name": "Python 3",
   "language": "python",
   "name": "python3"
  },
  "language_info": {
   "codemirror_mode": {
    "name": "ipython",
    "version": 3
   },
   "file_extension": ".py",
   "mimetype": "text/x-python",
   "name": "python",
   "nbconvert_exporter": "python",
   "pygments_lexer": "ipython3",
   "version": "3.8.5"
  }
 },
 "nbformat": 4,
 "nbformat_minor": 5
}
